{
 "cells": [
  {
   "cell_type": "markdown",
   "metadata": {},
   "source": [
    "### Import libraries"
   ]
  },
  {
   "cell_type": "code",
   "execution_count": 422,
   "metadata": {},
   "outputs": [],
   "source": [
    "import numpy as np\n",
    "import pandas as pd\n",
    "import matplotlib.pyplot as plt"
   ]
  },
  {
   "cell_type": "markdown",
   "metadata": {},
   "source": [
    "### Import Data"
   ]
  },
  {
   "cell_type": "code",
   "execution_count": 423,
   "metadata": {},
   "outputs": [],
   "source": [
    "population = pd.read_csv(\"./data/country_population.csv\")\n",
    "fertility = pd.read_csv(\"./data/fertility_rate.csv\")\n",
    "life_expectancy = pd.read_csv(\"./data/life_expectancy.csv\")"
   ]
  },
  {
   "cell_type": "markdown",
   "metadata": {},
   "source": [
    "### Treat data"
   ]
  },
  {
   "cell_type": "code",
   "execution_count": 424,
   "metadata": {},
   "outputs": [],
   "source": [
    "unwanted_cols = [\"Indicator Name\", \"Indicator Code\", \"Country Name\"]\n",
    "\n",
    "population.drop(unwanted_cols, axis=1, inplace=True)\n",
    "fertility.drop(unwanted_cols, axis=1, inplace=True)\n",
    "life_expectancy.drop(unwanted_cols, axis=1, inplace=True)\n",
    "\n",
    "population = population.transpose()\n",
    "fertility = fertility.transpose()\n",
    "life_expectancy = life_expectancy.transpose()\n",
    "\n",
    "years = pd.DataFrame(list(population.index)[1:])\n",
    "\n",
    "population = pd.concat([years, pd.DataFrame(population.values[1:], columns = population.iloc[0])], axis=1).rename(columns= {0: \"year\"})\n",
    "fertility = pd.concat([years, pd.DataFrame(fertility.values[1:], columns = fertility.iloc[0])], axis=1).rename(columns= {0: \"year\"})\n",
    "life_expectancy = pd.concat([years, pd.DataFrame(life_expectancy.values[1:], columns = life_expectancy.iloc[0])], axis=1).rename(columns= {0: \"year\"})"
   ]
  },
  {
   "attachments": {},
   "cell_type": "markdown",
   "metadata": {},
   "source": [
    "### Transform into deltas"
   ]
  },
  {
   "cell_type": "code",
   "execution_count": 425,
   "metadata": {},
   "outputs": [],
   "source": [
    "dsts = [population, fertility, life_expectancy]\n",
    "dst_names = [\"population\", \"fertility\", \"life_expectancy\"]\n",
    "\n",
    "population_deltas = []\n",
    "fertility_deltas = []\n",
    "life_expectancy_deltas = []\n",
    "\n",
    "for i in range(3):\n",
    "    dst = dsts[i]\n",
    "    for col in dst.columns:\n",
    "        delta_col = []\n",
    "        if col != \"year\":\n",
    "            for j in range(len(dst[col]) - 1):\n",
    "                num = dst[col][j]\n",
    "                delta = dst[col][j + 1] - num\n",
    "                delta_col.append(delta)\n",
    "            if(i == 0):\n",
    "                population_deltas.append(delta_col)\n",
    "            if(i == 1):\n",
    "                fertility_deltas.append(delta_col)\n",
    "            if(i == 2):\n",
    "                life_expectancy_deltas.append(delta_col)"
   ]
  },
  {
   "attachments": {},
   "cell_type": "markdown",
   "metadata": {},
   "source": [
    "### Split deltas into X and Y"
   ]
  },
  {
   "cell_type": "code",
   "execution_count": 426,
   "metadata": {},
   "outputs": [],
   "source": [
    "import math\n",
    "\n",
    "def splitDeltas(k, deltas):\n",
    "    X = []\n",
    "    y = []\n",
    "\n",
    "    for arr in deltas:\n",
    "        temp_X = []\n",
    "        for d in arr:\n",
    "            if(math.isnan(d)):\n",
    "                temp_X = []\n",
    "                continue\n",
    "            if(len(temp_X) == k):\n",
    "                X.append(temp_X)\n",
    "                y.append(d)\n",
    "                temp_X = []\n",
    "\n",
    "            temp_X.append(d)\n",
    "    return X, y\n",
    "        \n",
    "\n",
    "X_population_k3, y_population_k3  = splitDeltas(3, population_deltas)\n",
    "X_fertility_k3, y_fertility_k3 = splitDeltas(3, fertility_deltas)\n",
    "X_life_expectancy_k3, y_life_expectancy_k3 = splitDeltas(3, life_expectancy_deltas)\n",
    "\n",
    "X_population_k6, y_population_k6  = splitDeltas(6, population_deltas)\n",
    "X_fertility_k6, y_fertility_k6 = splitDeltas(6, fertility_deltas)\n",
    "X_life_expectancy_k6, y_life_expectancy_k6 = splitDeltas(6, life_expectancy_deltas)\n",
    "\n",
    "X_population_k10, y_population_k10  = splitDeltas(10, population_deltas)\n",
    "X_fertility_k10, y_fertility_k10 = splitDeltas(10, fertility_deltas)\n",
    "X_life_expectancy_k10, y_life_expectancy_k10 = splitDeltas(10, life_expectancy_deltas)"
   ]
  },
  {
   "attachments": {},
   "cell_type": "markdown",
   "metadata": {},
   "source": [
    "# Models"
   ]
  },
  {
   "cell_type": "markdown",
   "metadata": {},
   "source": [
    "### Regression Metrics Function"
   ]
  },
  {
   "cell_type": "code",
   "execution_count": 427,
   "metadata": {},
   "outputs": [],
   "source": [
    "from sklearn.metrics import explained_variance_score, mean_squared_error, max_error, mean_absolute_error, matthews_corrcoef, max_error, accuracy_score\n",
    "from scipy.stats import pearsonr\n",
    "\n",
    "def printRegStatistics(truth, preds):\n",
    "    corr, pval = pearsonr(truth, preds)\n",
    "    print(\"The RVE is: %7.4f\" %explained_variance_score(truth, preds))\n",
    "    print(\"The RMSE is: %7.4f\" %mean_squared_error(truth, preds, squared=False))\n",
    "    print(\"The Correlation Score is: %6.4f (p-value=%e)\"%(corr,pval))\n",
    "    print(\"The Maximum Error is: %7.4f\" %max_error(truth, preds))\n",
    "    print(\"The Mean Absolute Error: %7.4f\" %mean_absolute_error(truth, preds))\n",
    "    print(\"------------------------------\")"
   ]
  },
  {
   "cell_type": "markdown",
   "metadata": {},
   "source": [
    "### Split the data"
   ]
  },
  {
   "cell_type": "code",
   "execution_count": 428,
   "metadata": {},
   "outputs": [],
   "source": [
    "from sklearn.model_selection import train_test_split\n",
    "\n",
    "# K3\n",
    "X_train_IVS_k3_population, X_IVS_k3_population, y_train_IVS_k3_population, y_IVS_k3_population = train_test_split(X_population_k3, y_population_k3, test_size=0.20, random_state=7)\n",
    "X_train_k3_population, X_test_k3_population, y_train_k3_population, y_test_k3_population = train_test_split(X_train_IVS_k3_population, y_train_IVS_k3_population, test_size=0.20, random_state=7)\n",
    "\n",
    "X_train_IVS_k3_fertility, X_IVS_k3_fertility, y_train_IVS_k3_fertility, y_IVS_k3_fertility = train_test_split(X_fertility_k3, y_fertility_k3, test_size=0.20, random_state=7)\n",
    "X_train_k3_fertility, X_test_k3_fertility, y_train_k3_fertility, y_test_k3_fertility = train_test_split(X_train_IVS_k3_fertility, y_train_IVS_k3_fertility, test_size=0.20, random_state=7)\n",
    "\n",
    "X_train_IVS_k3_life_expectancy, X_IVS_k3_life_expectancy, y_train_IVS_k3_life_expectancy, y_IVS_k3_life_expectancy = train_test_split(X_life_expectancy_k3, y_life_expectancy_k3, test_size=0.20, random_state=7)\n",
    "X_train_k3_life_expectancy, X_test_k3_life_expectancy, y_train_k3_life_expectancy, y_test_k3_life_expectancy = train_test_split(X_train_IVS_k3_life_expectancy, y_train_IVS_k3_life_expectancy, test_size=0.20, random_state=7)\n",
    "\n",
    "# K6\n",
    "X_train_IVS_k6_population, X_IVS_k6_population, y_train_IVS_k6_population, y_IVS_k6_population = train_test_split(X_population_k6, y_population_k6, test_size=0.20, random_state=7)\n",
    "X_train_k6_population, X_test_k6_population, y_train_k6_population, y_test_k6_population = train_test_split(X_train_IVS_k6_population, y_train_IVS_k6_population, test_size=0.20, random_state=7)\n",
    "\n",
    "X_train_IVS_k6_fertility, X_IVS_k6_fertility, y_train_IVS_k6_fertility, y_IVS_k6_fertility = train_test_split(X_fertility_k6, y_fertility_k6, test_size=0.20, random_state=7)\n",
    "X_train_k6_fertility, X_test_k6_fertility, y_train_k6_fertility, y_test_k6_fertility = train_test_split(X_train_IVS_k6_fertility, y_train_IVS_k6_fertility, test_size=0.20, random_state=7)\n",
    "\n",
    "X_train_IVS_k6_life_expectancy, X_IVS_k6_life_expectancy, y_train_IVS_k6_life_expectancy, y_IVS_k6_life_expectancy = train_test_split(X_life_expectancy_k6, y_life_expectancy_k6, test_size=0.20, random_state=7)\n",
    "X_train_k6_life_expectancy, X_test_k6_life_expectancy, y_train_k6_life_expectancy, y_test_k6_life_expectancy = train_test_split(X_train_IVS_k6_life_expectancy, y_train_IVS_k6_life_expectancy, test_size=0.20, random_state=7)\n",
    "\n",
    "# K10\n",
    "X_train_IVS_k10_population, X_IVS_k10_population, y_train_IVS_k10_population, y_IVS_k10_population = train_test_split(X_population_k10, y_population_k10, test_size=0.20, random_state=7)\n",
    "X_train_k10_population, X_test_k10_population, y_train_k10_population, y_test_k10_population = train_test_split(X_train_IVS_k10_population, y_train_IVS_k10_population, test_size=0.20, random_state=7)\n",
    "\n",
    "X_train_IVS_k10_fertility, X_IVS_k10_fertility, y_train_IVS_k10_fertility, y_IVS_k10_fertility = train_test_split(X_fertility_k10, y_fertility_k10, test_size=0.20, random_state=7)\n",
    "X_train_k10_fertility, X_test_k10_fertility, y_train_k10_fertility, y_test_k10_fertility = train_test_split(X_train_IVS_k10_fertility, y_train_IVS_k10_fertility, test_size=0.20, random_state=7)\n",
    "\n",
    "X_train_IVS_k10_life_expectancy, X_IVS_k10_life_expectancy, y_train_IVS_k10_life_expectancy, y_IVS_k10_life_expectancy = train_test_split(X_life_expectancy_k10, y_life_expectancy_k10, test_size=0.20, random_state=7)\n",
    "X_train_k10_life_expectancy, X_test_k10_life_expectancy, y_train_k10_life_expectancy, y_test_k10_life_expectancy = train_test_split(X_train_IVS_k10_life_expectancy, y_train_IVS_k10_life_expectancy, test_size=0.20, random_state=7)"
   ]
  },
  {
   "attachments": {},
   "cell_type": "markdown",
   "metadata": {},
   "source": [
    "### Variables for Later"
   ]
  },
  {
   "cell_type": "code",
   "execution_count": 429,
   "metadata": {},
   "outputs": [],
   "source": [
    "import sys\n",
    "\n",
    "bestOverallRMSE_population = sys.float_info.max\n",
    "bestOverallRMSEParams_population = {\n",
    "    \"model\": \"\",\n",
    "    \"k\": \"\"\n",
    "}\n",
    "\n",
    "bestOverallRMSE_fertility = sys.float_info.max\n",
    "bestOverallRMSEParams_fertility = {\n",
    "    \"model\": \"\",\n",
    "    \"k\": \"\"\n",
    "}\n",
    "\n",
    "bestOverallRMSE_life_expectancy = sys.float_info.max\n",
    "bestOverallRMSEParams_life_expectancy = {\n",
    "    \"model\": \"\",\n",
    "    \"k\": \"\"\n",
    "}"
   ]
  },
  {
   "cell_type": "markdown",
   "metadata": {},
   "source": [
    "### Model 1 - Linear Regression"
   ]
  },
  {
   "cell_type": "code",
   "execution_count": 430,
   "metadata": {},
   "outputs": [
    {
     "name": "stdout",
     "output_type": "stream",
     "text": [
      "LR | population | K = 10 | RMSE = 253641.98523878766\n",
      "LR | fertility | K = 10 | RMSE = 0.060746290934078816\n",
      "LR | life_expectancy | K = 10 | RMSE = 0.19469746568244908\n"
     ]
    }
   ],
   "source": [
    "from sklearn.linear_model import LinearRegression\n",
    "\n",
    "for dst in [\"population\", \"fertility\", \"life_expectancy\"]:\n",
    "    bestRMSE_LR = sys.float_info.max\n",
    "    bestK_LR = \"\"\n",
    "\n",
    "    for k in [\"3\", \"6\", \"10\"]:\n",
    "        X_train = globals()[\"X_train_k\" + k + \"_\" + dst]\n",
    "        y_train = globals()[\"y_train_k\" + k + \"_\" + dst]\n",
    "        X_test = globals()[\"X_test_k\" + k + \"_\" + dst]\n",
    "        y_test = globals()[\"y_test_k\" + k + \"_\" + dst]\n",
    "\n",
    "        lr = LinearRegression()\n",
    "        lr.fit(X_train, y_train)\n",
    "\n",
    "        preds = lr.predict(X_test)\n",
    "        \n",
    "        rmse = mean_squared_error(y_test, preds, squared=False)\n",
    "\n",
    "        # print(\"LR\")\n",
    "        # print(dst, k)\n",
    "        # print(printRegStatistics(y_test, preds))\n",
    "\n",
    "        if(bestRMSE_LR > rmse):\n",
    "            bestRMSE_LR = rmse\n",
    "            bestK_LR = k\n",
    "    \n",
    "    print(\"LR |\", dst, \"| K =\", bestK_LR, \"| RMSE =\", bestRMSE_LR)\n",
    "\n",
    "    if(bestRMSE_LR < globals()[\"bestOverallRMSE_\" + dst]):\n",
    "        globals()[\"bestOverallRMSE_\" + dst] = bestRMSE_LR\n",
    "        globals()[\"bestOverallRMSEParams_\" + dst][\"model\"] = \"Linear Regression\"\n",
    "        globals()[\"bestOverallRMSEParams_\" + dst][\"k\"] = bestK_LR"
   ]
  },
  {
   "attachments": {},
   "cell_type": "markdown",
   "metadata": {},
   "source": [
    "### Model 2 - Random Forest"
   ]
  },
  {
   "cell_type": "code",
   "execution_count": 431,
   "metadata": {},
   "outputs": [
    {
     "name": "stdout",
     "output_type": "stream",
     "text": [
      "RF | population | K = 3 | RMSE = 1596955.984387569 | With: {'max_depth': 9, 'min_samples_leaf': 25}\n",
      "RF | fertility | K = 10 | RMSE = 0.05425216457617322 | With: {'max_depth': 2, 'min_samples_leaf': 75}\n",
      "RF | life_expectancy | K = 6 | RMSE = 0.18025024965000402 | With: {'max_depth': 5, 'min_samples_leaf': 50}\n"
     ]
    }
   ],
   "source": [
    "from sklearn.ensemble import RandomForestRegressor\n",
    "\n",
    "for dst in [\"population\", \"fertility\", \"life_expectancy\"]:\n",
    "    bestRMSE_RF = sys.float_info.max\n",
    "    bestK_RF = \"\"\n",
    "    best_RF_params = {}\n",
    "\n",
    "    for k in [\"3\", \"6\", \"10\"]:\n",
    "        X_train = globals()[\"X_train_k\" + k + \"_\" + dst]\n",
    "        y_train = globals()[\"y_train_k\" + k + \"_\" + dst]\n",
    "        X_test = globals()[\"X_test_k\" + k + \"_\" + dst]\n",
    "        y_test = globals()[\"y_test_k\" + k + \"_\" + dst]\n",
    "\n",
    "        bestRMSE = sys.float_info.max\n",
    "        bestRMSEParams = {\n",
    "            \"max_depth\": 0,\n",
    "            \"min_samples_leaf\": 0 \n",
    "        }\n",
    "\n",
    "        for depth in range(2, 11):\n",
    "            for leaf in range(25, 150, 25):\n",
    "                rf = RandomForestRegressor(n_estimators = 50, random_state = 7, max_depth = depth, min_samples_leaf = leaf)\n",
    "                rf.fit(X_train, y_train)\n",
    "                preds = rf.predict(X_test)\n",
    "\n",
    "                rmse = mean_squared_error(y_test, preds, squared=False)\n",
    "\n",
    "                if(bestRMSE > rmse):\n",
    "                    bestRMSE = rmse\n",
    "                    bestRMSEParams[\"max_depth\"] = depth\n",
    "                    bestRMSEParams[\"min_samples_leaf\"] = leaf\n",
    "        \n",
    "        if(bestRMSE < bestRMSE_RF):\n",
    "            bestRMSE_RF = bestRMSE\n",
    "            bestK_RF = k\n",
    "            best_RF_params.update(bestRMSEParams) \n",
    "\n",
    "    print(\"RF |\", dst, \"| K =\", bestK_RF, \"| RMSE =\", bestRMSE_RF , \"| With:\", best_RF_params)\n",
    "    \n",
    "    # rf = RandomForestRegressor(n_estimators = 50, random_state = 7, max_depth = best_RF_params['max_depth'], min_samples_leaf = best_RF_params['min_samples_leaf'])\n",
    "    # rf.fit(globals()[\"X_train_k\" + bestK_RF + \"_\" + dst], globals()[\"y_train_k\" + bestK_RF + \"_\" + dst])\n",
    "    # preds = rf.predict(globals()[\"X_test_k\" + bestK_RF + \"_\" + dst])\n",
    "    # print(printRegStatistics(globals()[\"y_test_k\" + bestK_RF + \"_\" + dst], preds))\n",
    "\n",
    "    if(bestRMSE_RF < globals()[\"bestOverallRMSE_\" + dst]):\n",
    "        globals()[\"bestOverallRMSE_\" + dst] = bestRMSE_RF\n",
    "        globals()[\"bestOverallRMSEParams_\" + dst][\"model\"] = \"Random Forest\"\n",
    "        globals()[\"bestOverallRMSEParams_\" + dst][\"k\"] = bestK_RF\n",
    "        globals()[\"bestOverallRMSEParams_\" + dst].update(best_RF_params)    "
   ]
  },
  {
   "attachments": {},
   "cell_type": "markdown",
   "metadata": {},
   "source": [
    "### The best models are..."
   ]
  },
  {
   "cell_type": "code",
   "execution_count": 432,
   "metadata": {},
   "outputs": [
    {
     "name": "stdout",
     "output_type": "stream",
     "text": [
      "The best model for population is:\n",
      "{'model': 'Linear Regression', 'k': '10'}\n",
      "-------\n",
      "The best model for fertility is:\n",
      "{'model': 'Random Forest', 'k': '10', 'max_depth': 2, 'min_samples_leaf': 75}\n",
      "-------\n",
      "The best model for life_expectancy is:\n",
      "{'model': 'Random Forest', 'k': '6', 'max_depth': 5, 'min_samples_leaf': 50}\n",
      "-------\n"
     ]
    }
   ],
   "source": [
    "for dst in [\"population\", \"fertility\", \"life_expectancy\"]:\n",
    "    print(\"The best model for\", dst, \"is:\")\n",
    "    print(globals()[\"bestOverallRMSEParams_\" + dst])\n",
    "    print(\"-------\")"
   ]
  },
  {
   "attachments": {},
   "cell_type": "markdown",
   "metadata": {},
   "source": [
    "## Fit and validate best models"
   ]
  },
  {
   "attachments": {},
   "cell_type": "markdown",
   "metadata": {},
   "source": [
    "### Population"
   ]
  },
  {
   "cell_type": "code",
   "execution_count": 433,
   "metadata": {},
   "outputs": [
    {
     "name": "stdout",
     "output_type": "stream",
     "text": [
      "The RVE is:  0.9996\n",
      "The RMSE is: 212868.2143\n",
      "The Correlation Score is: 0.9998 (p-value=0.000000e+00)\n",
      "The Maximum Error is: 1673025.8782\n",
      "The Mean Absolute Error: 68749.7940\n",
      "------------------------------\n"
     ]
    }
   ],
   "source": [
    "lr_population = LinearRegression()\n",
    "lr_population.fit(X_train_IVS_k10_population, y_train_IVS_k10_population)\n",
    "\n",
    "preds = lr_population.predict(X_IVS_k10_population)\n",
    "printRegStatistics(y_IVS_k10_population, preds)"
   ]
  },
  {
   "attachments": {},
   "cell_type": "markdown",
   "metadata": {},
   "source": [
    "### Fertility"
   ]
  },
  {
   "cell_type": "code",
   "execution_count": 434,
   "metadata": {},
   "outputs": [
    {
     "name": "stdout",
     "output_type": "stream",
     "text": [
      "The RVE is:  0.5201\n",
      "The RMSE is:  0.0472\n",
      "The Correlation Score is: 0.7225 (p-value=5.077343e-40)\n",
      "The Maximum Error is:  0.2305\n",
      "The Mean Absolute Error:  0.0272\n",
      "------------------------------\n"
     ]
    }
   ],
   "source": [
    "rf_fertility = RandomForestRegressor(n_estimators = 50, random_state = 7, max_depth = 2, min_samples_leaf = 75)\n",
    "rf_fertility.fit(X_train_IVS_k10_fertility, y_train_IVS_k10_fertility)\n",
    "\n",
    "preds = rf_fertility.predict(X_IVS_k10_fertility)\n",
    "printRegStatistics(y_IVS_k10_fertility, preds)"
   ]
  },
  {
   "attachments": {},
   "cell_type": "markdown",
   "metadata": {},
   "source": [
    "### Life Expectancy"
   ]
  },
  {
   "cell_type": "code",
   "execution_count": 435,
   "metadata": {},
   "outputs": [
    {
     "name": "stdout",
     "output_type": "stream",
     "text": [
      "The RVE is:  0.4437\n",
      "The RMSE is:  0.2931\n",
      "The Correlation Score is: 0.6663 (p-value=9.177680e-57)\n",
      "The Maximum Error is:  3.1109\n",
      "The Mean Absolute Error:  0.1234\n",
      "------------------------------\n"
     ]
    }
   ],
   "source": [
    "rf_life_expectancy = RandomForestRegressor(n_estimators = 50, random_state = 7, max_depth = 5, min_samples_leaf = 50)\n",
    "rf_life_expectancy.fit(X_train_IVS_k6_life_expectancy, y_train_IVS_k6_life_expectancy)\n",
    "\n",
    "preds = rf_life_expectancy.predict(X_IVS_k6_life_expectancy)\n",
    "printRegStatistics(y_IVS_k6_life_expectancy, preds)"
   ]
  },
  {
   "attachments": {},
   "cell_type": "markdown",
   "metadata": {},
   "source": [
    "## Select 10 random countries"
   ]
  },
  {
   "cell_type": "code",
   "execution_count": 436,
   "metadata": {},
   "outputs": [
    {
     "name": "stdout",
     "output_type": "stream",
     "text": [
      "['LUX', 'EST', 'CZE', 'ZMB', 'USA', 'NPL', 'SAU', 'MRT', 'PNG', 'ZAF']\n",
      "[142, 69, 52, 262, 249, 176, 203, 164, 187, 261]\n"
     ]
    }
   ],
   "source": [
    "import random\n",
    "\n",
    "country_codes = list(population.columns[1:])\n",
    "country_codes_filtered = []\n",
    "\n",
    "for col in population:\n",
    "    if col != \"year\":\n",
    "        country = col\n",
    "        if not np.isnan(list(population[col])[-10:]).any() and not np.isnan(list(fertility[col])[-10:]).any() and not np.isnan(list(life_expectancy[col])[-10:]).any():\n",
    "            country_codes_filtered.append(country)\n",
    "\n",
    "random.seed(120)\n",
    "\n",
    "selected_countries = []\n",
    "\n",
    "for i in range(0, 10):\n",
    "    n = random.randint(0, len(country_codes_filtered) - 1)\n",
    "    selected_countries.append(country_codes_filtered[n])\n",
    "\n",
    "print(selected_countries)\n",
    "\n",
    "selected_countries_index = []\n",
    "\n",
    "for country in selected_countries:\n",
    "    selected_countries_index.append(country_codes.index(country))\n",
    "\n",
    "print(selected_countries_index)"
   ]
  },
  {
   "attachments": {},
   "cell_type": "markdown",
   "metadata": {},
   "source": [
    "## Population | 2017"
   ]
  },
  {
   "cell_type": "code",
   "execution_count": 447,
   "metadata": {},
   "outputs": [
    {
     "name": "stdout",
     "output_type": "stream",
     "text": [
      "For country LUX | Delta 2016-2017: 8175 | Value 2016: 582014 | Predicted Value 2017: 590189\n",
      "---------------------\n",
      "For country EST | Delta 2016-2017: -695 | Value 2016: 1315790 | Predicted Value 2017: 1315095\n",
      "---------------------\n",
      "For country CZE | Delta 2016-2017: 43991 | Value 2016: 10566332 | Predicted Value 2017: 10610323\n",
      "---------------------\n",
      "For country ZMB | Delta 2016-2017: 486001 | Value 2016: 16591390 | Predicted Value 2017: 17077391\n",
      "---------------------\n",
      "For country USA | Delta 2016-2017: 2309742 | Value 2016: 323127513 | Predicted Value 2017: 325437255\n",
      "---------------------\n",
      "For country NPL | Delta 2016-2017: 307500 | Value 2016: 28982771 | Predicted Value 2017: 29290271\n",
      "---------------------\n",
      "For country SAU | Delta 2016-2017: 643722 | Value 2016: 32275687 | Predicted Value 2017: 32919409\n",
      "---------------------\n",
      "For country MRT | Delta 2016-2017: 111382 | Value 2016: 4301018 | Predicted Value 2017: 4412400\n",
      "---------------------\n",
      "For country PNG | Delta 2016-2017: 159657 | Value 2016: 8084991 | Predicted Value 2017: 8244648\n",
      "---------------------\n",
      "For country ZAF | Delta 2016-2017: 672964 | Value 2016: 56015473 | Predicted Value 2017: 56688437\n",
      "---------------------\n"
     ]
    }
   ],
   "source": [
    "preds_population = []\n",
    "\n",
    "for i in selected_countries_index:\n",
    "    last_10_deltas = population_deltas[i][-10:]\n",
    "    delta = int(lr_population.predict([last_10_deltas])[0])\n",
    "    value_2016 = int(list(population[country_codes[i]])[-1])\n",
    "    pred_2017 = int(value_2016 + delta)\n",
    "    preds_population.append(pred_2017)\n",
    "    print(\"For country\", country_codes[i], \"|\", \"Delta 2016-2017:\", delta, \"|\", \"Value 2016:\", value_2016, \"|\", \"Predicted Value 2017:\", pred_2017)\n",
    "    print(\"---------------------\")"
   ]
  },
  {
   "attachments": {},
   "cell_type": "markdown",
   "metadata": {},
   "source": [
    "### Truth / Predicted Plot | Population"
   ]
  },
  {
   "cell_type": "code",
   "execution_count": 438,
   "metadata": {},
   "outputs": [],
   "source": [
    "population_2017 = list(pd.read_csv(\"./data/population2017.csv\", header=None)[1])\n",
    "\n",
    "def plotGraph(preds, truth, color, title):\n",
    "    plt.figure(figsize=(7, 7))\n",
    "    plt.title(title)\n",
    "    plt.scatter(preds, truth, c=color)\n",
    "    plt.grid()\n",
    "    plt.axline([0, 0], [1, 1], c=\"black\")\n",
    "    plt.show()\n",
    "\n",
    "# plotGraph(preds_population, population_2017, \"blue\", \"Population\")"
   ]
  },
  {
   "attachments": {},
   "cell_type": "markdown",
   "metadata": {},
   "source": [
    "## Fertility | 2017"
   ]
  },
  {
   "cell_type": "code",
   "execution_count": 451,
   "metadata": {},
   "outputs": [
    {
     "name": "stdout",
     "output_type": "stream",
     "text": [
      "For country LUX | Delta 2016-2017: -0.02 | Value 2016: 1.47 | Predicted Value 2017: 1.45\n",
      "---------------------\n",
      "For country EST | Delta 2016-2017: -0.01 | Value 2016: 1.58 | Predicted Value 2017: 1.57\n",
      "---------------------\n",
      "For country CZE | Delta 2016-2017: -0.01 | Value 2016: 1.57 | Predicted Value 2017: 1.56\n",
      "---------------------\n",
      "For country ZMB | Delta 2016-2017: -0.05 | Value 2016: 4.981 | Predicted Value 2017: 4.93\n",
      "---------------------\n",
      "For country USA | Delta 2016-2017: -0.04 | Value 2016: 1.8 | Predicted Value 2017: 1.76\n",
      "---------------------\n",
      "For country NPL | Delta 2016-2017: -0.05 | Value 2016: 2.118 | Predicted Value 2017: 2.07\n",
      "---------------------\n",
      "For country SAU | Delta 2016-2017: -0.05 | Value 2016: 2.532 | Predicted Value 2017: 2.48\n",
      "---------------------\n",
      "For country MRT | Delta 2016-2017: -0.05 | Value 2016: 4.674 | Predicted Value 2017: 4.62\n",
      "---------------------\n",
      "For country PNG | Delta 2016-2017: -0.05 | Value 2016: 3.658 | Predicted Value 2017: 3.61\n",
      "---------------------\n",
      "For country ZAF | Delta 2016-2017: -0.03 | Value 2016: 2.458 | Predicted Value 2017: 2.43\n",
      "---------------------\n"
     ]
    }
   ],
   "source": [
    "preds_fertility = []\n",
    "\n",
    "for i in selected_countries_index:\n",
    "    last_10_deltas = fertility_deltas[i][-10:]\n",
    "    delta = round(rf_fertility.predict([last_10_deltas])[0], 2)\n",
    "    value_2016 = list(fertility[country_codes[i]])[-1]\n",
    "    pred_2017 = round(value_2016 + delta, 2)\n",
    "    preds_fertility.append(pred_2017)\n",
    "    print(\"For country\", country_codes[i], \"|\", \"Delta 2016-2017:\", delta, \"|\", \"Value 2016:\", value_2016, \"|\", \"Predicted Value 2017:\", pred_2017)\n",
    "    print(\"---------------------\")"
   ]
  },
  {
   "attachments": {},
   "cell_type": "markdown",
   "metadata": {},
   "source": [
    "### Truth / Predicted Plot | Fertility"
   ]
  },
  {
   "cell_type": "code",
   "execution_count": 440,
   "metadata": {},
   "outputs": [],
   "source": [
    "fertility_2017 = list(pd.read_csv(\"./data/fertility2017.csv\", header=None)[1])\n",
    "# plotGraph(preds_fertility, fertility_2017, \"magenta\", \"Fertility\")"
   ]
  },
  {
   "cell_type": "markdown",
   "metadata": {},
   "source": [
    "## Life Expectancy | 2017"
   ]
  },
  {
   "cell_type": "code",
   "execution_count": 453,
   "metadata": {},
   "outputs": [
    {
     "name": "stdout",
     "output_type": "stream",
     "text": [
      "For country LUX | Delta 2016-2017: 0.1 | Value 2016: 82.29 | Predicted Value 2017: 82.39\n",
      "---------------------\n",
      "For country EST | Delta 2016-2017: -0.06 | Value 2016: 77.74 | Predicted Value 2017: 77.68\n",
      "---------------------\n",
      "For country CZE | Delta 2016-2017: -0.1 | Value 2016: 78.33 | Predicted Value 2017: 78.23\n",
      "---------------------\n",
      "For country ZMB | Delta 2016-2017: 0.48 | Value 2016: 61.87 | Predicted Value 2017: 62.35\n",
      "---------------------\n",
      "For country USA | Delta 2016-2017: 0.09 | Value 2016: 78.69 | Predicted Value 2017: 78.78\n",
      "---------------------\n",
      "For country NPL | Delta 2016-2017: 0.36 | Value 2016: 70.25 | Predicted Value 2017: 70.61\n",
      "---------------------\n",
      "For country SAU | Delta 2016-2017: 0.17 | Value 2016: 74.56 | Predicted Value 2017: 74.73\n",
      "---------------------\n",
      "For country MRT | Delta 2016-2017: 0.16 | Value 2016: 63.24 | Predicted Value 2017: 63.4\n",
      "---------------------\n",
      "For country PNG | Delta 2016-2017: 0.18 | Value 2016: 65.54 | Predicted Value 2017: 65.72\n",
      "---------------------\n",
      "For country ZAF | Delta 2016-2017: 0.79 | Value 2016: 62.77 | Predicted Value 2017: 63.56\n",
      "---------------------\n"
     ]
    }
   ],
   "source": [
    "preds_life_expect = []\n",
    "\n",
    "for i in selected_countries_index:\n",
    "    last_6_deltas = life_expectancy_deltas[i][-6:]\n",
    "    delta = round(rf_life_expectancy.predict([last_6_deltas])[0], 2)\n",
    "    value_2016 = round(list(life_expectancy[country_codes[i]])[-1], 2)\n",
    "    pred_2017 = round(value_2016 + delta, 2)\n",
    "    preds_life_expect.append(pred_2017)\n",
    "    print(\"For country\", country_codes[i], \"|\", \"Delta 2016-2017:\", delta, \"|\", \"Value 2016:\", value_2016, \"|\", \"Predicted Value 2017:\", pred_2017)\n",
    "    print(\"---------------------\")"
   ]
  },
  {
   "attachments": {},
   "cell_type": "markdown",
   "metadata": {},
   "source": [
    "### Truth / Predicted Plot | Life Expectancy"
   ]
  },
  {
   "cell_type": "code",
   "execution_count": 442,
   "metadata": {},
   "outputs": [],
   "source": [
    "life_expect_2017 = list(pd.read_csv(\"./data/life_expect2017.csv\", header=None)[1])\n",
    "# plotGraph(preds_life_expect, life_expect_2017, \"green\", \"Life Expectancy\")"
   ]
  }
 ],
 "metadata": {
  "kernelspec": {
   "display_name": "base",
   "language": "python",
   "name": "python3"
  },
  "language_info": {
   "codemirror_mode": {
    "name": "ipython",
    "version": 3
   },
   "file_extension": ".py",
   "mimetype": "text/x-python",
   "name": "python",
   "nbconvert_exporter": "python",
   "pygments_lexer": "ipython3",
   "version": "3.9.12"
  },
  "vscode": {
   "interpreter": {
    "hash": "04e3edcbff521d4507541a888d0dd9335f64985a674087566b9b4c8f92f4be6a"
   }
  }
 },
 "nbformat": 4,
 "nbformat_minor": 2
}
